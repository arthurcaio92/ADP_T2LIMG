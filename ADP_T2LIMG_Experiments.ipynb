{
  "nbformat": 4,
  "nbformat_minor": 0,
  "metadata": {
    "colab": {
      "provenance": []
    },
    "kernelspec": {
      "display_name": "Python 3",
      "name": "python3"
    },
    "language_info": {
      "name": "python"
    }
  },
  "cells": [
    {
      "cell_type": "markdown",
      "metadata": {
        "id": "OqEfHEnq5fF0"
      },
      "source": [
        "**A new data-driven interval type-2 fuzzy forecasting\n",
        "approach for load forecasting**\n"
      ]
    },
    {
      "cell_type": "markdown",
      "metadata": {
        "id": "2LA2lXz25zRE"
      },
      "source": [
        "Arthur C. V. e Pinto, Omid Orang, Frederico G. Guimarães, Eduardo P. de Aguiar, Under publishing."
      ]
    },
    {
      "cell_type": "markdown",
      "metadata": {
        "id": "wIk8X83i4HUc"
      },
      "source": [
        "#ADP-T2LIMG"
      ]
    },
    {
      "cell_type": "code",
      "metadata": {
        "id": "Q61Hq1Sm4OI3"
      },
      "source": [
        "!git clone https://github.com/arthurcaio92/ADP_T2LIMG"
      ],
      "execution_count": null,
      "outputs": []
    },
    {
      "cell_type": "code",
      "metadata": {
        "id": "TLyMFh5g4WMB"
      },
      "source": [
        "pip install XlsxWriter"
      ],
      "execution_count": null,
      "outputs": []
    },
    {
      "cell_type": "code",
      "source": [
        "!pip install pyFTS"
      ],
      "metadata": {
        "id": "LnOXocTBob8E"
      },
      "execution_count": null,
      "outputs": []
    },
    {
      "cell_type": "markdown",
      "metadata": {
        "id": "CtQOSgOD63Tk"
      },
      "source": [
        "##Experiments"
      ]
    },
    {
      "cell_type": "markdown",
      "metadata": {
        "id": "kAWR3TL761Xi"
      },
      "source": [
        "**CAUTION:** This task is computationally expensive and takes several hours to be performed."
      ]
    },
    {
      "cell_type": "code",
      "metadata": {
        "id": "qDq6wivX4bXV"
      },
      "source": [
        "# -*- coding: utf-8 -*-\n",
        "from ADP_T2LIMG.ADP_T2LIMG.sliding_window import run_sliding_window\n",
        "import numpy as np\n",
        "import pandas as pd\n",
        "\n",
        "'------------------------------------------------ Data set import -------------------------------------------------'\n",
        "\n",
        "gefcom_z1 = pd.read_csv('ADP_T2LIMG/data/gefcom12_zone1.csv')\n",
        "gefcom_z1 = gefcom_z1['Value'][:8000]\n",
        "gefcom_z1 = gefcom_z1.to_numpy()\n",
        "\n",
        "gefcom_z2 = pd.read_csv('ADP_T2LIMG/data/gefcom12_zone2.csv')\n",
        "gefcom_z2 = gefcom_z2['Value'][:8000]\n",
        "gefcom_z2 = gefcom_z2.to_numpy()\n",
        "\n",
        "gefcom_z3 = pd.read_csv('ADP_T2LIMG/data/gefcom12_zone3.csv')\n",
        "gefcom_z3 = gefcom_z3['Value'][:8000]\n",
        "gefcom_z3 = gefcom_z3.to_numpy()\n",
        "\n",
        "aep = pd.read_csv('ADP_T2LIMG/data/AEP_hourly.csv')\n",
        "aep = aep['AEP_MW'][:8000]\n",
        "aep = aep.to_numpy()\n",
        "\n",
        "deok = pd.read_csv('ADP_T2LIMG/data/DEOK_hourly.csv')\n",
        "deok = deok['DEOK_MW'][:8000]\n",
        "deok = deok.to_numpy()\n",
        "\n",
        "'------------------------------------------------ Sliding Window Parameters -------------------------------------------------'\n",
        "\n",
        "datasets = [aep,deok]\n",
        "dataset_names = ['aep','deok']\n",
        "diff = 1                                #If diff = 1, data is differentiated\n",
        "partition_parameters = np.arange(1,6)            #partiions must be a list\n",
        "orders = [1]\n",
        "partitioners = ['ADPT2LIMG']\n",
        "mfs = ['triangular']\n",
        "\n",
        "'------------------------------------------------ Running the model -------------------------------------------------'\n",
        "\n",
        "'Builds and runs the model'\n",
        "run_sliding_window(datasets,dataset_names,diff,partition_parameters,orders,partitioners,mfs,training = 0.8)\n",
        "\n",
        "'When done, excel files (.xlsx) will be generated for each data set with error metrics'"
      ],
      "execution_count": null,
      "outputs": []
    }
  ]
}
